{
 "cells": [
  {
   "cell_type": "code",
   "execution_count": 9,
   "id": "77eb3289-a115-4207-8d8a-c7400c9416ed",
   "metadata": {},
   "outputs": [],
   "source": [
    "import pandas as pd\n",
    "import numpy as np\n",
    "import os\n",
    "\n",
    "pd.set_option('display.max_rows', 500)\n",
    "pd.set_option('display.max_columns', 500)\n",
    "pd.set_option('display.width', 1000)\n",
    "\n",
    "#print (os.getcwd())"
   ]
  },
  {
   "cell_type": "code",
   "execution_count": 10,
   "id": "4b670077-8560-48a4-b4eb-14b012cd8fa3",
   "metadata": {},
   "outputs": [
    {
     "name": "stdout",
     "output_type": "stream",
     "text": [
      "sheet\n",
      "sheet_processed\n"
     ]
    }
   ],
   "source": [
    "input_file = \"sheet.xlsx\" \n",
    "base_filename = os.path.splitext(os.path.basename(input_file))[0]\n",
    "\n",
    "print (base_filename)\n",
    "\n",
    "output_dir = f\"{base_filename}_processed\"\n",
    "print(output_dir)\n",
    "\n",
    "os.makedirs(output_dir, exist_ok=True)\n"
   ]
  },
  {
   "cell_type": "code",
   "execution_count": 13,
   "id": "cc36328e-b2b1-4dbe-9dc1-bffaff07ce89",
   "metadata": {},
   "outputs": [],
   "source": [
    "input_file = \"0B4A4210.xlsx\" \n",
    "xls = pd.ExcelFile(input_file)\n",
    "\n",
    "# df = pd.read_excel(\"0F31E200.xlsx\")\n",
    "# print (df)\n",
    "\n",
    "# print(xls.sheet_names)\n"
   ]
  },
  {
   "cell_type": "code",
   "execution_count": 17,
   "id": "d1e4d279-33f2-4811-9236-4f579bd0b634",
   "metadata": {},
   "outputs": [
    {
     "name": "stdout",
     "output_type": "stream",
     "text": [
      "                          col1             col2            col3  col4     col5           col6  col7           col8               col9                                     col10\n",
      "0                 SMLB1(au838)          Tawasul     Application   NaN     RHEL            APP  PROD  Joseph Sanjay  CustomerAssurance  it_ao_customerassurance_support@eand.com\n",
      "1                 SMLB2(au839)          Tawasul     Application   NaN     RHEL            APP  PROD  Joseph Sanjay  CustomerAssurance  it_ao_customerassurance_support@eand.com\n",
      "2                 APP01(au840)          Tawasul     Application   NaN     RHEL            APP  PROD  Joseph Sanjay  CustomerAssurance  it_ao_customerassurance_support@eand.com\n",
      "3                 APP02(au841)          Tawasul     Application   NaN     RHEL            APP  PROD  Joseph Sanjay  CustomerAssurance  it_ao_customerassurance_support@eand.com\n",
      "4                DB01(au10626)          Tawasul              DB   NaN     RHEL             DB  PROD  Joseph Sanjay  CustomerAssurance  it_ao_customerassurance_support@eand.com\n",
      "5                DB02(au10627)          Tawasul   DB(Reporting)   NaN     RHEL  DB(Reporting)  PROD  Joseph Sanjay  CustomerAssurance  it_ao_customerassurance_support@eand.com\n",
      "6                 WEB01(au834)          Tawasul             Web   NaN     RHEL            WEB  PROD  Joseph Sanjay  CustomerAssurance  it_ao_customerassurance_support@eand.com\n",
      "7                 WEB02(au835)          Tawasul             Web   NaN     RHEL            WEB  PROD  Joseph Sanjay  CustomerAssurance  it_ao_customerassurance_support@eand.com\n",
      "8                 WEB03(au836)          Tawasul             Web   NaN     RHEL            WEB  PROD  Joseph Sanjay  CustomerAssurance  it_ao_customerassurance_support@eand.com\n",
      "9                 WEB04(au837)          Tawasul             Web   NaN     RHEL            WEB  PROD  Joseph Sanjay  CustomerAssurance  it_ao_customerassurance_support@eand.com\n",
      "10                         NaN              NaN             NaN   NaN      NaN            NaN   NaN            NaN                NaN                                       NaN\n",
      "11                LB1(dx11930)             URMS             APP   NaN     RHEL            APP  PROD  Joseph Sanjay  CustomerAssurance  it_ao_customerassurance_support@eand.com\n",
      "12             APP01 (dx11931)             URMS             APP   NaN     RHEL            APP  PROD  Joseph Sanjay  CustomerAssurance  it_ao_customerassurance_support@eand.com\n",
      "13              APP02(dx11932)             URMS             APP   NaN     RHEL            APP  PROD  Joseph Sanjay  CustomerAssurance  it_ao_customerassurance_support@eand.com\n",
      "14             INT01 (dx11933)             URMS             APP   NaN     RHEL            APP  PROD  Joseph Sanjay  CustomerAssurance  it_ao_customerassurance_support@eand.com\n",
      "15             INT02 (dx11934)             URMS             APP   NaN     RHEL            APP  PROD  Joseph Sanjay  CustomerAssurance  it_ao_customerassurance_support@eand.com\n",
      "16             WEB01 (dx11935)             URMS             WEB   NaN     RHEL            WEB  PROD  Joseph Sanjay  CustomerAssurance  it_ao_customerassurance_support@eand.com\n",
      "17             WEB02 (dx11936)             URMS             WEB   NaN     RHEL            WEB  PROD  Joseph Sanjay  CustomerAssurance  it_ao_customerassurance_support@eand.com\n",
      "18             WEB03 (dx11937)             URMS             WEB   NaN     RHEL            WEB  PROD  Joseph Sanjay  CustomerAssurance  it_ao_customerassurance_support@eand.com\n",
      "19              DB01 (dx11938)             URMS              DB   NaN     RHEL             DB  PROD  Joseph Sanjay  CustomerAssurance  it_ao_customerassurance_support@eand.com\n",
      "20              DB02 (dx11939)  URMS(reporting)              DB   NaN     RHEL             DB  PROD  Joseph Sanjay  CustomerAssurance  it_ao_customerassurance_support@eand.com\n",
      "21                        UCMS              NaN             NaN   NaN      NaN            NaN   NaN            NaN                NaN                                       NaN\n",
      "22                LB (dx11964)             UCMS     Application   NaN     RHEL            APP  PROD  Joseph Sanjay  CustomerAssurance  it_ao_customerassurance_support@eand.com\n",
      "23           App - 1 (dx11966)             UCMS     Application   NaN     RHEL            APP  PROD  Joseph Sanjay  CustomerAssurance  it_ao_customerassurance_support@eand.com\n",
      "24           App - 2 (dx11967)             UCMS     Application   NaN     RHEL            APP  PROD  Joseph Sanjay  CustomerAssurance  it_ao_customerassurance_support@eand.com\n",
      "25           App - 3 (dx11968)             UCMS     Application   NaN     RHEL            APP  PROD  Joseph Sanjay  CustomerAssurance  it_ao_customerassurance_support@eand.com\n",
      "26           Int - 1 (dx11969)             UCMS     Application   NaN     RHEL            APP  PROD  Joseph Sanjay  CustomerAssurance  it_ao_customerassurance_support@eand.com\n",
      "27           Int - 2 (dx11970)             UCMS     Application   NaN     RHEL            APP  PROD  Joseph Sanjay  CustomerAssurance  it_ao_customerassurance_support@eand.com\n",
      "28           Int - 3 (dx11971)             UCMS     Application   NaN     RHEL            APP  PROD  Joseph Sanjay  CustomerAssurance  it_ao_customerassurance_support@eand.com\n",
      "29           Web - 1 (dx11961)             UCMS             WEB   NaN     RHEL            WEB  PROD  Joseph Sanjay  CustomerAssurance  it_ao_customerassurance_support@eand.com\n",
      "30           Web - 2 (dx11962)             UCMS             WEB   NaN     RHEL            WEB  PROD  Joseph Sanjay  CustomerAssurance  it_ao_customerassurance_support@eand.com\n",
      "31           Web - 3 (dx11963)             UCMS             WEB   NaN     RHEL            WEB  PROD  Joseph Sanjay  CustomerAssurance  it_ao_customerassurance_support@eand.com\n",
      "32          Database (dx11973)             UCMS              DB   NaN     RHEL             DB  PROD  Joseph Sanjay  CustomerAssurance  it_ao_customerassurance_support@eand.com\n",
      "33         Reporting((dx11974)             UCMS   DB(Reporting)   NaN     RHEL             DB  PROD  Joseph Sanjay  CustomerAssurance  it_ao_customerassurance_support@eand.com\n",
      "34                        HPSM              NaN             NaN   NaN      NaN            NaN   NaN            NaN                NaN                                       NaN\n",
      "35               WEB01 (dx956)   HRSMART/VENDOR             WEB   NaN     RHEL            WEB  PROD  Joseph Sanjay  CustomerAssurance  it_ao_customerassurance_support@eand.com\n",
      "36               WEB02 (dx957)   HRSMART/VENDOR             WEB   NaN     RHEL            WEB  PROD  Joseph Sanjay  CustomerAssurance  it_ao_customerassurance_support@eand.com\n",
      "37               WEB03 (dx958)   HRSMART/VENDOR             WEB   NaN     RHEL            WEB  PROD  Joseph Sanjay  CustomerAssurance  it_ao_customerassurance_support@eand.com\n",
      "38               WEB04 (au595)   HRSMART/VENDOR             WEB   NaN     RHEL            WEB  PROD  Joseph Sanjay  CustomerAssurance  it_ao_customerassurance_support@eand.com\n",
      "39               WEB05 (au596)   HRSMART/VENDOR             WEB   NaN     RHEL            WEB  PROD  Joseph Sanjay  CustomerAssurance  it_ao_customerassurance_support@eand.com\n",
      "40               WEB06 (au597)   HRSMART/VENDOR             WEB   NaN     RHEL            WEB  PROD  Joseph Sanjay  CustomerAssurance  it_ao_customerassurance_support@eand.com\n",
      "41                LB01 (au568)   HRSMART/VENDOR             WEB   NaN     RHEL            WEB  PROD  Joseph Sanjay  CustomerAssurance  it_ao_customerassurance_support@eand.com\n",
      "42                LB02 (au568)   HRSMART/VENDOR             WEB   NaN     RHEL            WEB  PROD  Joseph Sanjay  CustomerAssurance  it_ao_customerassurance_support@eand.com\n",
      "43               APP01 (au570)   HRSMART/VENDOR             APP   NaN     RHEL            APP  PROD  Joseph Sanjay  CustomerAssurance  it_ao_customerassurance_support@eand.com\n",
      "44               APP02 (au571)   HRSMART/VENDOR             APP   NaN     RHEL            APP  PROD  Joseph Sanjay  CustomerAssurance  it_ao_customerassurance_support@eand.com\n",
      "45               INT01 (au572)   HRSMART/VENDOR             APP   NaN     RHEL            APP  PROD  Joseph Sanjay  CustomerAssurance  it_ao_customerassurance_support@eand.com\n",
      "46               INT02 (au573)   HRSMART/VENDOR             APP   NaN     RHEL            APP  PROD  Joseph Sanjay  CustomerAssurance  it_ao_customerassurance_support@eand.com\n",
      "47                DB01 (Au638)   HRSMART/VENDOR              DB   NaN     RHEL            APP  PROD  Joseph Sanjay  CustomerAssurance  it_ao_customerassurance_support@eand.com\n",
      "48                DB02 (au639)   HRSMART/VENDOR  DB (Reporting)   NaN     RHEL            APP  PROD  Joseph Sanjay  CustomerAssurance  it_ao_customerassurance_support@eand.com\n",
      "49                         NaN              NaN             NaN   NaN      NaN            NaN   NaN            NaN                NaN                                       NaN\n",
      "50  APP Server (AS2084DXBDB05)            UCMDB             APP   NaN  Windows            APP  PROD  Joseph Sanjay  CustomerAssurance  it_ao_customerassurance_support@eand.com\n",
      "51  APP Server (AS2085DXBDB05)            UCMDB             APP   NaN  Windows            APP  PROD  Joseph Sanjay  CustomerAssurance  it_ao_customerassurance_support@eand.com\n",
      "52      Probe1 (AS2089DXBDB05)            UCMDB             APP   NaN  Windows            APP  PROD  Joseph Sanjay  CustomerAssurance  it_ao_customerassurance_support@eand.com\n",
      "53      Probe2 (AS2091DXBDB05)            UCMDB             APP   NaN  Windows            APP  PROD  Joseph Sanjay  CustomerAssurance  it_ao_customerassurance_support@eand.com\n",
      "54      Probe3 (AS2231DXBDB05)            UCMDB             APP   NaN  Windows            APP  PROD  Joseph Sanjay  CustomerAssurance  it_ao_customerassurance_support@eand.com\n",
      "55       Probe4(AS2232DXBDB05)            UCMDB             APP   NaN  Windows            APP  PROD  Joseph Sanjay  CustomerAssurance  it_ao_customerassurance_support@eand.com\n",
      "56                 DB (dx1490)            UCMDB              DB   NaN     RHEL             DB  PROD  Joseph Sanjay  CustomerAssurance  it_ao_customerassurance_support@eand.com\n",
      "57                     UCMS DR              NaN             NaN   NaN      NaN            NaN   NaN            NaN                NaN                                       NaN\n",
      "58                         NaN              NaN             NaN   NaN      NaN            NaN   NaN            NaN                NaN                                       NaN\n",
      "59                LB (AU11252)             UCMS     Application   NaN     RHEL            APP    DR  Joseph Sanjay  CustomerAssurance  it_ao_customerassurance_support@eand.com\n",
      "60           App - 1 (AU11253)             UCMS     Application   NaN     RHEL            APP    DR  Joseph Sanjay  CustomerAssurance  it_ao_customerassurance_support@eand.com\n",
      "61           App - 2 (AU11254)             UCMS     Application   NaN     RHEL            APP    DR  Joseph Sanjay  CustomerAssurance  it_ao_customerassurance_support@eand.com\n",
      "62           Int - 1 (AU11255)             UCMS     Application   NaN     RHEL            APP    DR  Joseph Sanjay  CustomerAssurance  it_ao_customerassurance_support@eand.com\n",
      "63           Int - 2 (AU11256)             UCMS     Application   NaN     RHEL            APP    DR  Joseph Sanjay  CustomerAssurance  it_ao_customerassurance_support@eand.com\n",
      "64           Int - 3 (AU11257)             UCMS     Application   NaN     RHEL            APP    DR  Joseph Sanjay  CustomerAssurance  it_ao_customerassurance_support@eand.com\n",
      "65           Web - 1 (AU11258)             UCMS             WEB   NaN     RHEL            WEB    DR  Joseph Sanjay  CustomerAssurance  it_ao_customerassurance_support@eand.com\n",
      "66           Web - 2 (AU11259)             UCMS             WEB   NaN     RHEL            WEB    DR  Joseph Sanjay  CustomerAssurance  it_ao_customerassurance_support@eand.com\n",
      "67          Database (au00571)             UCMS              DB   NaN     RHEL             DB    DR  Joseph Sanjay  CustomerAssurance  it_ao_customerassurance_support@eand.com\n",
      "===================\n"
     ]
    }
   ],
   "source": [
    "df = pd.read_excel(input_file, 'PROD')\n",
    "print(df)\n",
    "print(\"===================\")\n",
    "# print(df)"
   ]
  },
  {
   "cell_type": "code",
   "execution_count": 69,
   "id": "e261095d-75b7-4501-823e-aabb8e92c01f",
   "metadata": {},
   "outputs": [
    {
     "name": "stdout",
     "output_type": "stream",
     "text": [
      "['Tawasul' nan 'URMS' 'URMS(reporting)' 'UCMS' 'HRSMART/VENDOR' 'UCMDB'\n",
      " 'UCMSDR']\n",
      "['APP001' 'APP002' nan]\n",
      "<class 'numpy.ndarray'>\n",
      "['APP001' 'APP002' nan]\n"
     ]
    }
   ],
   "source": [
    "unique_values = np.empty\n",
    "for sheet_name in xls.sheet_names:\n",
    "    # print (sheet_name)\n",
    "    df = pd.read_excel(input_file, sheet_name=sheet_name)\n",
    "    result =  df['app'].unique()\n",
    "    np.append(unique_values,result)\n",
    "    print(result)\n",
    "    \n",
    "    \n",
    "unique_values = df['app'].unique()\n",
    "print (type(unique_values))\n",
    "print (unique_values)\n",
    "\n",
    "# filtered_rows = df[df['app'] == 'URMS']\n",
    "# print (filtered_rows)"
   ]
  },
  {
   "cell_type": "code",
   "execution_count": null,
   "id": "43bd39d1-781e-4d7a-b3a2-562ca12d55d7",
   "metadata": {},
   "outputs": [],
   "source": []
  }
 ],
 "metadata": {
  "kernelspec": {
   "display_name": "Python 3 (ipykernel)",
   "language": "python",
   "name": "python3"
  },
  "language_info": {
   "codemirror_mode": {
    "name": "ipython",
    "version": 3
   },
   "file_extension": ".py",
   "mimetype": "text/x-python",
   "name": "python",
   "nbconvert_exporter": "python",
   "pygments_lexer": "ipython3",
   "version": "3.12.2"
  }
 },
 "nbformat": 4,
 "nbformat_minor": 5
}
