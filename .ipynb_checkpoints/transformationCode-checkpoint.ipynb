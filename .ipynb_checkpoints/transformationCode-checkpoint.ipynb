{
 "cells": [
  {
   "cell_type": "code",
   "execution_count": 46,
   "id": "77eb3289-a115-4207-8d8a-c7400c9416ed",
   "metadata": {},
   "outputs": [],
   "source": [
    "import pandas as pd\n",
    "import numpy as np\n",
    "import os\n",
    "\n",
    "#print (os.getcwd())"
   ]
  },
  {
   "cell_type": "code",
   "execution_count": 47,
   "id": "4b670077-8560-48a4-b4eb-14b012cd8fa3",
   "metadata": {},
   "outputs": [
    {
     "name": "stdout",
     "output_type": "stream",
     "text": [
      "sheet\n",
      "sheet_processed\n"
     ]
    }
   ],
   "source": [
    "input_file = \"sheet.xlsx\" \n",
    "base_filename = os.path.splitext(os.path.basename(input_file))[0]\n",
    "\n",
    "print (base_filename)\n",
    "\n",
    "output_dir = f\"{base_filename}_processed\"\n",
    "print(output_dir)\n",
    "\n",
    "os.makedirs(output_dir, exist_ok=True)\n"
   ]
  },
  {
   "cell_type": "code",
   "execution_count": 48,
   "id": "cc36328e-b2b1-4dbe-9dc1-bffaff07ce89",
   "metadata": {},
   "outputs": [],
   "source": [
    "input_file = \"FC1A4300.xlsx\" \n",
    "xls = pd.ExcelFile(input_file)\n",
    "\n",
    "# df = pd.read_excel(\"0F31E200.xlsx\")\n",
    "# print (df)\n",
    "\n",
    "# print(xls.sheet_names)\n"
   ]
  },
  {
   "cell_type": "code",
   "execution_count": 49,
   "id": "d1e4d279-33f2-4811-9236-4f579bd0b634",
   "metadata": {},
   "outputs": [
    {
     "name": "stdout",
     "output_type": "stream",
     "text": [
      "          server      app        app02  approle\n",
      "0   SMLB1(au838)  Tawasul  Application      NaN\n",
      "1   SMLB2(au839)  Tawasul  Application      NaN\n",
      "2   APP01(au840)  Tawasul  Application      NaN\n",
      "3   APP02(au841)  Tawasul  Application      NaN\n",
      "4  DB01(au10626)  Tawasul           DB      NaN\n",
      "===================\n",
      "                server      app        app02  approle\n",
      "0         SMLB1(au838)  Tawasul  Application      NaN\n",
      "1         SMLB2(au839)  Tawasul  Application      NaN\n",
      "2         APP01(au840)  Tawasul  Application      NaN\n",
      "3         APP02(au841)  Tawasul  Application      NaN\n",
      "4        DB01(au10626)  Tawasul           DB      NaN\n",
      "..                 ...      ...          ...      ...\n",
      "63   Int - 2 (AU11256)   UCMSDR  Application      NaN\n",
      "64   Int - 3 (AU11257)   UCMSDR  Application      NaN\n",
      "65   Web - 1 (AU11258)   UCMSDR          WEB      NaN\n",
      "66   Web - 2 (AU11259)   UCMSDR          WEB      NaN\n",
      "67  Database (au00571)   UCMSDR           DB      NaN\n",
      "\n",
      "[68 rows x 4 columns]\n"
     ]
    }
   ],
   "source": [
    "df = pd.read_excel(input_file, 'PROD-VM-Master Info')\n",
    "print(df.head())\n",
    "print(\"===================\")\n",
    "print(df)"
   ]
  },
  {
   "cell_type": "code",
   "execution_count": 69,
   "id": "e261095d-75b7-4501-823e-aabb8e92c01f",
   "metadata": {},
   "outputs": [
    {
     "name": "stdout",
     "output_type": "stream",
     "text": [
      "['Tawasul' nan 'URMS' 'URMS(reporting)' 'UCMS' 'HRSMART/VENDOR' 'UCMDB'\n",
      " 'UCMSDR']\n",
      "['APP001' 'APP002' nan]\n",
      "<class 'numpy.ndarray'>\n",
      "['APP001' 'APP002' nan]\n"
     ]
    }
   ],
   "source": [
    "unique_values = np.empty\n",
    "for sheet_name in xls.sheet_names:\n",
    "    # print (sheet_name)\n",
    "    df = pd.read_excel(input_file, sheet_name=sheet_name)\n",
    "    result =  df['app'].unique()\n",
    "    np.append(unique_values,result)\n",
    "    print(result)\n",
    "    \n",
    "    \n",
    "unique_values = df['app'].unique()\n",
    "print (type(unique_values))\n",
    "print (unique_values)\n",
    "\n",
    "# filtered_rows = df[df['app'] == 'URMS']\n",
    "# print (filtered_rows)"
   ]
  },
  {
   "cell_type": "code",
   "execution_count": null,
   "id": "43bd39d1-781e-4d7a-b3a2-562ca12d55d7",
   "metadata": {},
   "outputs": [],
   "source": []
  }
 ],
 "metadata": {
  "kernelspec": {
   "display_name": "Python 3 (ipykernel)",
   "language": "python",
   "name": "python3"
  },
  "language_info": {
   "codemirror_mode": {
    "name": "ipython",
    "version": 3
   },
   "file_extension": ".py",
   "mimetype": "text/x-python",
   "name": "python",
   "nbconvert_exporter": "python",
   "pygments_lexer": "ipython3",
   "version": "3.12.2"
  }
 },
 "nbformat": 4,
 "nbformat_minor": 5
}
